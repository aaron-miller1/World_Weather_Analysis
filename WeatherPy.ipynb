{
 "cells": [
  {
   "cell_type": "code",
   "execution_count": 1,
   "id": "86d3fb68",
   "metadata": {},
   "outputs": [],
   "source": [
    "# Import dependencies\n",
    "\n",
    "import pandas as pd\n",
    "\n",
    "import matplotlib.pyplot as plt\n",
    "\n",
    "import numpy as np"
   ]
  },
  {
   "cell_type": "code",
   "execution_count": 2,
   "id": "57ba345b",
   "metadata": {},
   "outputs": [
    {
     "data": {
      "text/plain": [
       "<zip at 0x26e87e81388>"
      ]
     },
     "execution_count": 2,
     "metadata": {},
     "output_type": "execute_result"
    }
   ],
   "source": [
    "# Create a set of random lats and longs combo\n",
    "\n",
    "lats = np.random.uniform(-90.000,90.000,size=1500)\n",
    "\n",
    "longs = np.random.uniform(-180.000,180.000, size=1500)\n",
    "\n",
    "lat_longs = zip(lats, longs)\n",
    "\n",
    "lat_longs"
   ]
  },
  {
   "cell_type": "code",
   "execution_count": 3,
   "id": "440a35a5",
   "metadata": {},
   "outputs": [],
   "source": [
    "coordinates = list(lat_longs)"
   ]
  },
  {
   "cell_type": "code",
   "execution_count": 4,
   "id": "b999c04b",
   "metadata": {},
   "outputs": [],
   "source": [
    "from citipy import citipy"
   ]
  },
  {
   "cell_type": "code",
   "execution_count": 5,
   "id": "125a43cd",
   "metadata": {},
   "outputs": [],
   "source": [
    "# import requests library\n",
    "\n",
    "import requests\n",
    "\n",
    "# import API key\n",
    "\n",
    "from config import weather_api_key\n",
    "\n",
    "url = \"http://api.openweathermap.org/data/2.5/weather?units=Imperial&APPID=\" + weather_api_key"
   ]
  },
  {
   "cell_type": "code",
   "execution_count": 6,
   "id": "8a2e9fbe",
   "metadata": {},
   "outputs": [
    {
     "data": {
      "text/plain": [
       "603"
      ]
     },
     "execution_count": 6,
     "metadata": {},
     "output_type": "execute_result"
    }
   ],
   "source": [
    "# create a list for holding cities\n",
    "\n",
    "cities = []\n",
    "\n",
    "# identify nearest city for each lat and long combo\n",
    "\n",
    "for coordinate in coordinates:\n",
    "    \n",
    "    city = citipy.nearest_city(coordinate[0],coordinate[1]).city_name\n",
    "    \n",
    "#     if the city is unique, add to cities list\n",
    "    if city not in cities:\n",
    "        cities.append(city)\n",
    "        \n",
    "# print len cities\n",
    "\n",
    "len(cities)"
   ]
  },
  {
   "cell_type": "code",
   "execution_count": 7,
   "id": "07cb332f",
   "metadata": {},
   "outputs": [
    {
     "data": {
      "text/plain": [
       "'2.26.0'"
      ]
     },
     "execution_count": 7,
     "metadata": {},
     "output_type": "execute_result"
    }
   ],
   "source": [
    "import requests\n",
    "\n",
    "requests.__version__"
   ]
  },
  {
   "cell_type": "code",
   "execution_count": 8,
   "id": "465f74f9",
   "metadata": {},
   "outputs": [],
   "source": [
    "# import time library\n",
    "\n",
    "import time \n",
    "\n",
    "from datetime import datetime"
   ]
  },
  {
   "cell_type": "code",
   "execution_count": 9,
   "id": "bb5f0e3e",
   "metadata": {
    "scrolled": true
   },
   "outputs": [
    {
     "name": "stdout",
     "output_type": "stream",
     "text": [
      "Beginning Data Retrieval    \n",
      "----------------------------\n",
      "Processing Record 1 of Set 1 | rikitea\n",
      "Processing Record 2 of Set 1 | provideniya\n",
      "Processing Record 3 of Set 1 | beni suef\n",
      "Processing Record 4 of Set 1 | cidreira\n",
      "Processing Record 5 of Set 1 | vaini\n",
      "Processing Record 6 of Set 1 | carnarvon\n",
      "Processing Record 7 of Set 1 | illoqqortoormiut\n",
      "City not found. Skipping...\n",
      "Processing Record 8 of Set 1 | port lincoln\n",
      "Processing Record 9 of Set 1 | belushya guba\n",
      "City not found. Skipping...\n",
      "Processing Record 10 of Set 1 | hilo\n",
      "Processing Record 11 of Set 1 | havelock\n",
      "Processing Record 12 of Set 1 | port macquarie\n",
      "Processing Record 13 of Set 1 | busselton\n",
      "Processing Record 14 of Set 1 | dikson\n",
      "Processing Record 15 of Set 1 | barrow\n",
      "Processing Record 16 of Set 1 | castro\n",
      "Processing Record 17 of Set 1 | puerto ayora\n",
      "Processing Record 18 of Set 1 | nemuro\n",
      "Processing Record 19 of Set 1 | hithadhoo\n",
      "Processing Record 20 of Set 1 | albany\n",
      "Processing Record 21 of Set 1 | hermanus\n",
      "Processing Record 22 of Set 1 | mardin\n",
      "Processing Record 23 of Set 1 | lagoa\n",
      "Processing Record 24 of Set 1 | altamira\n",
      "Processing Record 25 of Set 1 | hakkari\n",
      "Processing Record 26 of Set 1 | mazagao\n",
      "Processing Record 27 of Set 1 | constitucion\n",
      "Processing Record 28 of Set 1 | yerbogachen\n",
      "Processing Record 29 of Set 1 | geraldton\n",
      "Processing Record 30 of Set 1 | saskylakh\n",
      "Processing Record 31 of Set 1 | avarua\n",
      "Processing Record 32 of Set 1 | mataura\n",
      "Processing Record 33 of Set 1 | zakamensk\n",
      "Processing Record 34 of Set 1 | ushuaia\n",
      "Processing Record 35 of Set 1 | cam pha\n",
      "City not found. Skipping...\n",
      "Processing Record 36 of Set 1 | butaritari\n",
      "Processing Record 37 of Set 1 | havoysund\n",
      "Processing Record 38 of Set 1 | tabiauea\n",
      "City not found. Skipping...\n",
      "Processing Record 39 of Set 1 | ponta do sol\n",
      "Processing Record 40 of Set 1 | thompson\n",
      "Processing Record 41 of Set 1 | port elizabeth\n",
      "Processing Record 42 of Set 1 | labuhan\n",
      "Processing Record 43 of Set 1 | upernavik\n",
      "Processing Record 44 of Set 1 | cabinda\n",
      "Processing Record 45 of Set 1 | ozgon\n",
      "City not found. Skipping...\n",
      "Processing Record 46 of Set 1 | pervoye maya\n",
      "Processing Record 47 of Set 1 | sentyabrskiy\n",
      "City not found. Skipping...\n",
      "Processing Record 48 of Set 1 | burica\n",
      "City not found. Skipping...\n",
      "Processing Record 49 of Set 1 | hamadan\n",
      "Processing Record 50 of Set 1 | yanan\n",
      "City not found. Skipping...\n",
      "Processing Record 1 of Set 2 | hede\n",
      "Processing Record 2 of Set 2 | chuy\n",
      "Processing Record 3 of Set 2 | jamestown\n",
      "Processing Record 4 of Set 2 | arraial do cabo\n",
      "Processing Record 5 of Set 2 | ewo\n",
      "Processing Record 6 of Set 2 | rocha\n",
      "Processing Record 7 of Set 2 | kozhevnikovo\n",
      "Processing Record 8 of Set 2 | nikolskoye\n",
      "Processing Record 9 of Set 2 | viligili\n",
      "City not found. Skipping...\n",
      "Processing Record 10 of Set 2 | palmerston\n",
      "Processing Record 11 of Set 2 | basco\n",
      "Processing Record 12 of Set 2 | tazovskiy\n",
      "Processing Record 13 of Set 2 | cape town\n",
      "Processing Record 14 of Set 2 | pasni\n",
      "Processing Record 15 of Set 2 | lorengau\n",
      "Processing Record 16 of Set 2 | luderitz\n",
      "Processing Record 17 of Set 2 | santa cruz\n",
      "Processing Record 18 of Set 2 | port blair\n",
      "Processing Record 19 of Set 2 | manono\n",
      "Processing Record 20 of Set 2 | mayumba\n",
      "Processing Record 21 of Set 2 | pamanukan\n",
      "Processing Record 22 of Set 2 | hobart\n",
      "Processing Record 23 of Set 2 | saint-philippe\n",
      "Processing Record 24 of Set 2 | ola\n",
      "Processing Record 25 of Set 2 | artyk\n",
      "City not found. Skipping...\n",
      "Processing Record 26 of Set 2 | bacuit\n",
      "City not found. Skipping...\n",
      "Processing Record 27 of Set 2 | torbay\n",
      "Processing Record 28 of Set 2 | barpathar\n",
      "Processing Record 29 of Set 2 | atuona\n",
      "Processing Record 30 of Set 2 | lebu\n",
      "Processing Record 31 of Set 2 | cockburn harbour\n",
      "City not found. Skipping...\n",
      "Processing Record 32 of Set 2 | tortoli\n",
      "Processing Record 33 of Set 2 | bredasdorp\n",
      "Processing Record 34 of Set 2 | malanje\n",
      "Processing Record 35 of Set 2 | caravelas\n",
      "Processing Record 36 of Set 2 | meadow lake\n",
      "Processing Record 37 of Set 2 | bluff\n",
      "Processing Record 38 of Set 2 | tlahualilo\n",
      "City not found. Skipping...\n",
      "Processing Record 39 of Set 2 | punta arenas\n",
      "Processing Record 40 of Set 2 | victoria\n",
      "Processing Record 41 of Set 2 | bambous virieux\n",
      "Processing Record 42 of Set 2 | leningradskiy\n",
      "Processing Record 43 of Set 2 | kapaa\n",
      "Processing Record 44 of Set 2 | kruisfontein\n",
      "Processing Record 45 of Set 2 | lieksa\n",
      "Processing Record 46 of Set 2 | samusu\n",
      "City not found. Skipping...\n",
      "Processing Record 47 of Set 2 | kerouane\n",
      "Processing Record 48 of Set 2 | east london\n",
      "Processing Record 49 of Set 2 | moranbah\n",
      "Processing Record 50 of Set 2 | mys shmidta\n",
      "City not found. Skipping...\n",
      "Processing Record 1 of Set 3 | kodiak\n",
      "Processing Record 2 of Set 3 | kahului\n",
      "Processing Record 3 of Set 3 | ilulissat\n",
      "Processing Record 4 of Set 3 | khakhea\n",
      "Processing Record 5 of Set 3 | ures\n",
      "Processing Record 6 of Set 3 | severo-kurilsk\n",
      "Processing Record 7 of Set 3 | kurchum\n",
      "Processing Record 8 of Set 3 | tumannyy\n",
      "City not found. Skipping...\n",
      "Processing Record 9 of Set 3 | gloucester\n",
      "Processing Record 10 of Set 3 | barentsburg\n",
      "City not found. Skipping...\n",
      "Processing Record 11 of Set 3 | salalah\n",
      "Processing Record 12 of Set 3 | tiarei\n",
      "Processing Record 13 of Set 3 | kedrovyy\n",
      "City not found. Skipping...\n",
      "Processing Record 14 of Set 3 | buqayq\n",
      "City not found. Skipping...\n",
      "Processing Record 15 of Set 3 | sola\n",
      "Processing Record 16 of Set 3 | dukat\n",
      "Processing Record 17 of Set 3 | goris\n",
      "Processing Record 18 of Set 3 | port pirie\n",
      "Processing Record 19 of Set 3 | umba\n",
      "Processing Record 20 of Set 3 | kutum\n",
      "Processing Record 21 of Set 3 | beloha\n",
      "Processing Record 22 of Set 3 | mazamari\n",
      "Processing Record 23 of Set 3 | mar del plata\n",
      "Processing Record 24 of Set 3 | rundu\n",
      "Processing Record 25 of Set 3 | nanortalik\n",
      "Processing Record 26 of Set 3 | cam ranh\n",
      "Processing Record 27 of Set 3 | georgetown\n",
      "Processing Record 28 of Set 3 | new norfolk\n",
      "Processing Record 29 of Set 3 | muros\n",
      "Processing Record 30 of Set 3 | askiz\n",
      "Processing Record 31 of Set 3 | pozo colorado\n",
      "Processing Record 32 of Set 3 | tokoroa\n",
      "Processing Record 33 of Set 3 | raudeberg\n",
      "Processing Record 34 of Set 3 | arua\n",
      "Processing Record 35 of Set 3 | sokolovo\n",
      "Processing Record 36 of Set 3 | namibe\n",
      "Processing Record 37 of Set 3 | ambunti\n",
      "Processing Record 38 of Set 3 | esperance\n",
      "Processing Record 39 of Set 3 | grindavik\n",
      "Processing Record 40 of Set 3 | america dourada\n",
      "Processing Record 41 of Set 3 | tuktoyaktuk\n",
      "Processing Record 42 of Set 3 | syasstroy\n",
      "Processing Record 43 of Set 3 | grand river south east\n",
      "City not found. Skipping...\n",
      "Processing Record 44 of Set 3 | hoa binh\n",
      "Processing Record 45 of Set 3 | skibbereen\n",
      "Processing Record 46 of Set 3 | odweyne\n",
      "Processing Record 47 of Set 3 | marcona\n",
      "City not found. Skipping...\n",
      "Processing Record 48 of Set 3 | la ronge\n",
      "Processing Record 49 of Set 3 | novomykolayivka\n",
      "Processing Record 50 of Set 3 | nizhneyansk\n",
      "City not found. Skipping...\n",
      "Processing Record 1 of Set 4 | talnakh\n",
      "Processing Record 2 of Set 4 | verkhnyaya inta\n",
      "Processing Record 3 of Set 4 | riyadh\n",
      "Processing Record 4 of Set 4 | haines junction\n",
      "Processing Record 5 of Set 4 | guanay\n",
      "Processing Record 6 of Set 4 | krasnoselkup\n",
      "Processing Record 7 of Set 4 | saint anthony\n",
      "Processing Record 8 of Set 4 | meulaboh\n",
      "Processing Record 9 of Set 4 | pontes e lacerda\n",
      "Processing Record 10 of Set 4 | mahebourg\n",
      "Processing Record 11 of Set 4 | hamilton\n",
      "Processing Record 12 of Set 4 | coquimbo\n",
      "Processing Record 13 of Set 4 | mpongwe\n",
      "Processing Record 14 of Set 4 | kotelnich\n",
      "Processing Record 15 of Set 4 | lumeje\n",
      "Processing Record 16 of Set 4 | khatanga\n",
      "Processing Record 17 of Set 4 | masuri\n",
      "Processing Record 18 of Set 4 | yellowknife\n",
      "Processing Record 19 of Set 4 | kenai\n",
      "Processing Record 20 of Set 4 | inhambane\n",
      "Processing Record 21 of Set 4 | komsomolskiy\n",
      "Processing Record 22 of Set 4 | bethel\n",
      "Processing Record 23 of Set 4 | marawi\n",
      "Processing Record 24 of Set 4 | frutal\n",
      "Processing Record 25 of Set 4 | huadian\n",
      "Processing Record 26 of Set 4 | manuk mangkaw\n",
      "Processing Record 27 of Set 4 | tazmalt\n",
      "Processing Record 28 of Set 4 | meitingen\n",
      "Processing Record 29 of Set 4 | port alfred\n",
      "Processing Record 30 of Set 4 | darhan\n",
      "Processing Record 31 of Set 4 | tasiilaq\n",
      "Processing Record 32 of Set 4 | siderno\n",
      "Processing Record 33 of Set 4 | taoudenni\n"
     ]
    },
    {
     "name": "stdout",
     "output_type": "stream",
     "text": [
      "Processing Record 34 of Set 4 | trairi\n",
      "Processing Record 35 of Set 4 | vila\n",
      "Processing Record 36 of Set 4 | faya\n",
      "Processing Record 37 of Set 4 | endicott\n",
      "Processing Record 38 of Set 4 | panaba\n",
      "Processing Record 39 of Set 4 | liverpool\n",
      "Processing Record 40 of Set 4 | winneba\n",
      "Processing Record 41 of Set 4 | ust-nera\n",
      "Processing Record 42 of Set 4 | gimbi\n",
      "Processing Record 43 of Set 4 | flinders\n",
      "Processing Record 44 of Set 4 | pevek\n",
      "Processing Record 45 of Set 4 | chaa-khol\n",
      "City not found. Skipping...\n",
      "Processing Record 46 of Set 4 | kavaratti\n",
      "Processing Record 47 of Set 4 | tuggurt\n",
      "City not found. Skipping...\n",
      "Processing Record 48 of Set 4 | pfullendorf\n",
      "Processing Record 49 of Set 4 | taungdwingyi\n",
      "Processing Record 50 of Set 4 | taolanaro\n",
      "City not found. Skipping...\n"
     ]
    },
    {
     "ename": "KeyboardInterrupt",
     "evalue": "",
     "output_type": "error",
     "traceback": [
      "\u001b[1;31m---------------------------------------------------------------------------\u001b[0m",
      "\u001b[1;31mKeyboardInterrupt\u001b[0m                         Traceback (most recent call last)",
      "\u001b[1;32m~\\AppData\\Local\\Temp/ipykernel_18988/4268442868.py\u001b[0m in \u001b[0;36m<module>\u001b[1;34m\u001b[0m\n\u001b[0;32m     29\u001b[0m         \u001b[0mrecord_count\u001b[0m \u001b[1;33m=\u001b[0m \u001b[1;36m1\u001b[0m\u001b[1;33m\u001b[0m\u001b[1;33m\u001b[0m\u001b[0m\n\u001b[0;32m     30\u001b[0m \u001b[1;33m\u001b[0m\u001b[0m\n\u001b[1;32m---> 31\u001b[1;33m         \u001b[0mtime\u001b[0m\u001b[1;33m.\u001b[0m\u001b[0msleep\u001b[0m\u001b[1;33m(\u001b[0m\u001b[1;36m60\u001b[0m\u001b[1;33m)\u001b[0m\u001b[1;33m\u001b[0m\u001b[1;33m\u001b[0m\u001b[0m\n\u001b[0m\u001b[0;32m     32\u001b[0m \u001b[1;33m\u001b[0m\u001b[0m\n\u001b[0;32m     33\u001b[0m \u001b[1;31m#         Create endpoint url\u001b[0m\u001b[1;33m\u001b[0m\u001b[1;33m\u001b[0m\u001b[1;33m\u001b[0m\u001b[0m\n",
      "\u001b[1;31mKeyboardInterrupt\u001b[0m: "
     ]
    }
   ],
   "source": [
    "# create empty list for weather data\n",
    "\n",
    "city_data = []\n",
    "\n",
    "# print beginning of the logging\n",
    "\n",
    "print('Beginning Data Retrieval    ')\n",
    "\n",
    "print('----------------------------')\n",
    "\n",
    "\n",
    "# create counters\n",
    "\n",
    "record_count = 1\n",
    "\n",
    "set_count = 1\n",
    "\n",
    "# Loop through all the cities in the list\n",
    "\n",
    "for i, city in enumerate(cities):\n",
    "    \n",
    "    \n",
    "#     Group cities in sets of 50 for logging purposes\n",
    "\n",
    "    if (i % 50 == 0 and i >= 50):\n",
    "        \n",
    "        set_count += 1\n",
    "        \n",
    "        record_count = 1\n",
    "        \n",
    "        time.sleep(60)\n",
    "        \n",
    "#         Create endpoint url\n",
    "    city_url = url + '&q=' + city.replace(\" \",\"+\")\n",
    "    \n",
    "#     log the url\n",
    "    print(f'Processing Record {record_count} of Set {set_count} | {city}')\n",
    "    \n",
    "#     add 1 to the record count\n",
    "\n",
    "    record_count += 1\n",
    "    \n",
    "    # Run an API request for each of the cities.\n",
    "    try:\n",
    "        # Parse the JSON and retrieve data.\n",
    "        city_weather = requests.get(city_url).json()\n",
    "        # Parse out the needed data.\n",
    "        city_lat = city_weather[\"coord\"][\"lat\"]\n",
    "        city_lng = city_weather[\"coord\"][\"lon\"]\n",
    "        city_max_temp = city_weather[\"main\"][\"temp_max\"]\n",
    "        city_humidity = city_weather[\"main\"][\"humidity\"]\n",
    "        city_clouds = city_weather[\"clouds\"][\"all\"]\n",
    "        city_wind = city_weather[\"wind\"][\"speed\"]\n",
    "        city_country = city_weather[\"sys\"][\"country\"]\n",
    "        # Convert the date to ISO standard.\n",
    "        city_date = datetime.utcfromtimestamp(city_weather[\"dt\"]).strftime('%Y-%m-%d %H:%M:%S')\n",
    "        # Append the city information into city_data list.\n",
    "        city_data.append({\"City\": city.title(),\n",
    "                          \"Lat\": city_lat,\n",
    "                          \"Lng\": city_lng,\n",
    "                          \"Max Temp\": city_max_temp,\n",
    "                          \"Humidity\": city_humidity,\n",
    "                          \"Cloudiness\": city_clouds,\n",
    "                          \"Wind Speed\": city_wind,\n",
    "                          \"Country\": city_country,\n",
    "                          \"Date\": city_date})\n",
    "\n",
    "# If an error is experienced, skip the city.\n",
    "    except:\n",
    "        print(\"City not found. Skipping...\")\n",
    "        pass\n",
    "\n",
    "# Indicate that Data Loading is complete.\n",
    "print(\"-----------------------------\")\n",
    "print(\"Data Retrieval Complete      \")\n",
    "print(\"-----------------------------\")"
   ]
  },
  {
   "cell_type": "code",
   "execution_count": 10,
   "id": "999a3b53",
   "metadata": {},
   "outputs": [
    {
     "data": {
      "text/html": [
       "<div>\n",
       "<style scoped>\n",
       "    .dataframe tbody tr th:only-of-type {\n",
       "        vertical-align: middle;\n",
       "    }\n",
       "\n",
       "    .dataframe tbody tr th {\n",
       "        vertical-align: top;\n",
       "    }\n",
       "\n",
       "    .dataframe thead th {\n",
       "        text-align: right;\n",
       "    }\n",
       "</style>\n",
       "<table border=\"1\" class=\"dataframe\">\n",
       "  <thead>\n",
       "    <tr style=\"text-align: right;\">\n",
       "      <th></th>\n",
       "      <th>City</th>\n",
       "      <th>Lat</th>\n",
       "      <th>Lng</th>\n",
       "      <th>Max Temp</th>\n",
       "      <th>Humidity</th>\n",
       "      <th>Cloudiness</th>\n",
       "      <th>Wind Speed</th>\n",
       "      <th>Country</th>\n",
       "      <th>Date</th>\n",
       "    </tr>\n",
       "  </thead>\n",
       "  <tbody>\n",
       "    <tr>\n",
       "      <th>0</th>\n",
       "      <td>Rikitea</td>\n",
       "      <td>-23.1203</td>\n",
       "      <td>-134.9692</td>\n",
       "      <td>76.69</td>\n",
       "      <td>70</td>\n",
       "      <td>41</td>\n",
       "      <td>11.03</td>\n",
       "      <td>PF</td>\n",
       "      <td>2022-05-10 01:28:35</td>\n",
       "    </tr>\n",
       "    <tr>\n",
       "      <th>1</th>\n",
       "      <td>Provideniya</td>\n",
       "      <td>64.3833</td>\n",
       "      <td>-173.3000</td>\n",
       "      <td>35.13</td>\n",
       "      <td>62</td>\n",
       "      <td>1</td>\n",
       "      <td>7.20</td>\n",
       "      <td>RU</td>\n",
       "      <td>2022-05-10 01:28:35</td>\n",
       "    </tr>\n",
       "    <tr>\n",
       "      <th>2</th>\n",
       "      <td>Beni Suef</td>\n",
       "      <td>29.0731</td>\n",
       "      <td>31.0979</td>\n",
       "      <td>67.33</td>\n",
       "      <td>50</td>\n",
       "      <td>0</td>\n",
       "      <td>5.91</td>\n",
       "      <td>EG</td>\n",
       "      <td>2022-05-10 01:28:36</td>\n",
       "    </tr>\n",
       "    <tr>\n",
       "      <th>3</th>\n",
       "      <td>Cidreira</td>\n",
       "      <td>-30.1811</td>\n",
       "      <td>-50.2056</td>\n",
       "      <td>67.14</td>\n",
       "      <td>85</td>\n",
       "      <td>5</td>\n",
       "      <td>14.88</td>\n",
       "      <td>BR</td>\n",
       "      <td>2022-05-10 01:28:36</td>\n",
       "    </tr>\n",
       "    <tr>\n",
       "      <th>4</th>\n",
       "      <td>Vaini</td>\n",
       "      <td>-21.2000</td>\n",
       "      <td>-175.2000</td>\n",
       "      <td>77.16</td>\n",
       "      <td>61</td>\n",
       "      <td>20</td>\n",
       "      <td>8.05</td>\n",
       "      <td>TO</td>\n",
       "      <td>2022-05-10 01:28:37</td>\n",
       "    </tr>\n",
       "    <tr>\n",
       "      <th>5</th>\n",
       "      <td>Carnarvon</td>\n",
       "      <td>-24.8667</td>\n",
       "      <td>113.6333</td>\n",
       "      <td>77.07</td>\n",
       "      <td>44</td>\n",
       "      <td>100</td>\n",
       "      <td>5.75</td>\n",
       "      <td>AU</td>\n",
       "      <td>2022-05-10 01:28:37</td>\n",
       "    </tr>\n",
       "    <tr>\n",
       "      <th>6</th>\n",
       "      <td>Port Lincoln</td>\n",
       "      <td>-34.7333</td>\n",
       "      <td>135.8667</td>\n",
       "      <td>63.32</td>\n",
       "      <td>56</td>\n",
       "      <td>0</td>\n",
       "      <td>8.14</td>\n",
       "      <td>AU</td>\n",
       "      <td>2022-05-10 01:28:38</td>\n",
       "    </tr>\n",
       "    <tr>\n",
       "      <th>7</th>\n",
       "      <td>Hilo</td>\n",
       "      <td>19.7297</td>\n",
       "      <td>-155.0900</td>\n",
       "      <td>82.13</td>\n",
       "      <td>62</td>\n",
       "      <td>0</td>\n",
       "      <td>8.05</td>\n",
       "      <td>US</td>\n",
       "      <td>2022-05-10 01:28:39</td>\n",
       "    </tr>\n",
       "    <tr>\n",
       "      <th>8</th>\n",
       "      <td>Havelock</td>\n",
       "      <td>34.8791</td>\n",
       "      <td>-76.9013</td>\n",
       "      <td>60.80</td>\n",
       "      <td>51</td>\n",
       "      <td>40</td>\n",
       "      <td>16.11</td>\n",
       "      <td>US</td>\n",
       "      <td>2022-05-10 01:28:39</td>\n",
       "    </tr>\n",
       "    <tr>\n",
       "      <th>9</th>\n",
       "      <td>Port Macquarie</td>\n",
       "      <td>-31.4333</td>\n",
       "      <td>152.9167</td>\n",
       "      <td>69.89</td>\n",
       "      <td>62</td>\n",
       "      <td>29</td>\n",
       "      <td>4.25</td>\n",
       "      <td>AU</td>\n",
       "      <td>2022-05-10 01:28:40</td>\n",
       "    </tr>\n",
       "  </tbody>\n",
       "</table>\n",
       "</div>"
      ],
      "text/plain": [
       "             City      Lat       Lng  Max Temp  Humidity  Cloudiness  \\\n",
       "0         Rikitea -23.1203 -134.9692     76.69        70          41   \n",
       "1     Provideniya  64.3833 -173.3000     35.13        62           1   \n",
       "2       Beni Suef  29.0731   31.0979     67.33        50           0   \n",
       "3        Cidreira -30.1811  -50.2056     67.14        85           5   \n",
       "4           Vaini -21.2000 -175.2000     77.16        61          20   \n",
       "5       Carnarvon -24.8667  113.6333     77.07        44         100   \n",
       "6    Port Lincoln -34.7333  135.8667     63.32        56           0   \n",
       "7            Hilo  19.7297 -155.0900     82.13        62           0   \n",
       "8        Havelock  34.8791  -76.9013     60.80        51          40   \n",
       "9  Port Macquarie -31.4333  152.9167     69.89        62          29   \n",
       "\n",
       "   Wind Speed Country                 Date  \n",
       "0       11.03      PF  2022-05-10 01:28:35  \n",
       "1        7.20      RU  2022-05-10 01:28:35  \n",
       "2        5.91      EG  2022-05-10 01:28:36  \n",
       "3       14.88      BR  2022-05-10 01:28:36  \n",
       "4        8.05      TO  2022-05-10 01:28:37  \n",
       "5        5.75      AU  2022-05-10 01:28:37  \n",
       "6        8.14      AU  2022-05-10 01:28:38  \n",
       "7        8.05      US  2022-05-10 01:28:39  \n",
       "8       16.11      US  2022-05-10 01:28:39  \n",
       "9        4.25      AU  2022-05-10 01:28:40  "
      ]
     },
     "execution_count": 10,
     "metadata": {},
     "output_type": "execute_result"
    }
   ],
   "source": [
    "# Convert the array of dicts to a pd DF\n",
    "\n",
    "city_data_df = pd.DataFrame(city_data)\n",
    "\n",
    "city_data_df.head(10)"
   ]
  },
  {
   "cell_type": "code",
   "execution_count": 11,
   "id": "690ff2fb",
   "metadata": {},
   "outputs": [],
   "source": [
    "new_column_order = ['City', 'Country','Date', 'Lat','Lng','Max Temp','Humidity','Cloudiness', 'Wind Speed']\n",
    "\n",
    "city_data_df = city_data_df[new_column_order]"
   ]
  },
  {
   "cell_type": "code",
   "execution_count": 12,
   "id": "ffc5f122",
   "metadata": {},
   "outputs": [
    {
     "data": {
      "text/html": [
       "<div>\n",
       "<style scoped>\n",
       "    .dataframe tbody tr th:only-of-type {\n",
       "        vertical-align: middle;\n",
       "    }\n",
       "\n",
       "    .dataframe tbody tr th {\n",
       "        vertical-align: top;\n",
       "    }\n",
       "\n",
       "    .dataframe thead th {\n",
       "        text-align: right;\n",
       "    }\n",
       "</style>\n",
       "<table border=\"1\" class=\"dataframe\">\n",
       "  <thead>\n",
       "    <tr style=\"text-align: right;\">\n",
       "      <th></th>\n",
       "      <th>City</th>\n",
       "      <th>Country</th>\n",
       "      <th>Date</th>\n",
       "      <th>Lat</th>\n",
       "      <th>Lng</th>\n",
       "      <th>Max Temp</th>\n",
       "      <th>Humidity</th>\n",
       "      <th>Cloudiness</th>\n",
       "      <th>Wind Speed</th>\n",
       "    </tr>\n",
       "  </thead>\n",
       "  <tbody>\n",
       "    <tr>\n",
       "      <th>0</th>\n",
       "      <td>Rikitea</td>\n",
       "      <td>PF</td>\n",
       "      <td>2022-05-10 01:28:35</td>\n",
       "      <td>-23.1203</td>\n",
       "      <td>-134.9692</td>\n",
       "      <td>76.69</td>\n",
       "      <td>70</td>\n",
       "      <td>41</td>\n",
       "      <td>11.03</td>\n",
       "    </tr>\n",
       "    <tr>\n",
       "      <th>1</th>\n",
       "      <td>Provideniya</td>\n",
       "      <td>RU</td>\n",
       "      <td>2022-05-10 01:28:35</td>\n",
       "      <td>64.3833</td>\n",
       "      <td>-173.3000</td>\n",
       "      <td>35.13</td>\n",
       "      <td>62</td>\n",
       "      <td>1</td>\n",
       "      <td>7.20</td>\n",
       "    </tr>\n",
       "    <tr>\n",
       "      <th>2</th>\n",
       "      <td>Beni Suef</td>\n",
       "      <td>EG</td>\n",
       "      <td>2022-05-10 01:28:36</td>\n",
       "      <td>29.0731</td>\n",
       "      <td>31.0979</td>\n",
       "      <td>67.33</td>\n",
       "      <td>50</td>\n",
       "      <td>0</td>\n",
       "      <td>5.91</td>\n",
       "    </tr>\n",
       "    <tr>\n",
       "      <th>3</th>\n",
       "      <td>Cidreira</td>\n",
       "      <td>BR</td>\n",
       "      <td>2022-05-10 01:28:36</td>\n",
       "      <td>-30.1811</td>\n",
       "      <td>-50.2056</td>\n",
       "      <td>67.14</td>\n",
       "      <td>85</td>\n",
       "      <td>5</td>\n",
       "      <td>14.88</td>\n",
       "    </tr>\n",
       "    <tr>\n",
       "      <th>4</th>\n",
       "      <td>Vaini</td>\n",
       "      <td>TO</td>\n",
       "      <td>2022-05-10 01:28:37</td>\n",
       "      <td>-21.2000</td>\n",
       "      <td>-175.2000</td>\n",
       "      <td>77.16</td>\n",
       "      <td>61</td>\n",
       "      <td>20</td>\n",
       "      <td>8.05</td>\n",
       "    </tr>\n",
       "    <tr>\n",
       "      <th>...</th>\n",
       "      <td>...</td>\n",
       "      <td>...</td>\n",
       "      <td>...</td>\n",
       "      <td>...</td>\n",
       "      <td>...</td>\n",
       "      <td>...</td>\n",
       "      <td>...</td>\n",
       "      <td>...</td>\n",
       "      <td>...</td>\n",
       "    </tr>\n",
       "    <tr>\n",
       "      <th>170</th>\n",
       "      <td>Flinders</td>\n",
       "      <td>AU</td>\n",
       "      <td>2022-05-10 01:32:36</td>\n",
       "      <td>-34.5833</td>\n",
       "      <td>150.8552</td>\n",
       "      <td>68.18</td>\n",
       "      <td>88</td>\n",
       "      <td>97</td>\n",
       "      <td>4.00</td>\n",
       "    </tr>\n",
       "    <tr>\n",
       "      <th>171</th>\n",
       "      <td>Pevek</td>\n",
       "      <td>RU</td>\n",
       "      <td>2022-05-10 01:33:07</td>\n",
       "      <td>69.7008</td>\n",
       "      <td>170.3133</td>\n",
       "      <td>33.46</td>\n",
       "      <td>75</td>\n",
       "      <td>100</td>\n",
       "      <td>13.94</td>\n",
       "    </tr>\n",
       "    <tr>\n",
       "      <th>172</th>\n",
       "      <td>Kavaratti</td>\n",
       "      <td>IN</td>\n",
       "      <td>2022-05-10 01:33:08</td>\n",
       "      <td>10.5669</td>\n",
       "      <td>72.6420</td>\n",
       "      <td>85.33</td>\n",
       "      <td>73</td>\n",
       "      <td>100</td>\n",
       "      <td>19.89</td>\n",
       "    </tr>\n",
       "    <tr>\n",
       "      <th>173</th>\n",
       "      <td>Pfullendorf</td>\n",
       "      <td>DE</td>\n",
       "      <td>2022-05-10 01:32:15</td>\n",
       "      <td>47.9167</td>\n",
       "      <td>9.2500</td>\n",
       "      <td>48.92</td>\n",
       "      <td>95</td>\n",
       "      <td>0</td>\n",
       "      <td>2.19</td>\n",
       "    </tr>\n",
       "    <tr>\n",
       "      <th>174</th>\n",
       "      <td>Taungdwingyi</td>\n",
       "      <td>MM</td>\n",
       "      <td>2022-05-10 01:33:09</td>\n",
       "      <td>20.0167</td>\n",
       "      <td>95.5500</td>\n",
       "      <td>83.43</td>\n",
       "      <td>67</td>\n",
       "      <td>100</td>\n",
       "      <td>4.25</td>\n",
       "    </tr>\n",
       "  </tbody>\n",
       "</table>\n",
       "<p>175 rows × 9 columns</p>\n",
       "</div>"
      ],
      "text/plain": [
       "             City Country                 Date      Lat       Lng  Max Temp  \\\n",
       "0         Rikitea      PF  2022-05-10 01:28:35 -23.1203 -134.9692     76.69   \n",
       "1     Provideniya      RU  2022-05-10 01:28:35  64.3833 -173.3000     35.13   \n",
       "2       Beni Suef      EG  2022-05-10 01:28:36  29.0731   31.0979     67.33   \n",
       "3        Cidreira      BR  2022-05-10 01:28:36 -30.1811  -50.2056     67.14   \n",
       "4           Vaini      TO  2022-05-10 01:28:37 -21.2000 -175.2000     77.16   \n",
       "..            ...     ...                  ...      ...       ...       ...   \n",
       "170      Flinders      AU  2022-05-10 01:32:36 -34.5833  150.8552     68.18   \n",
       "171         Pevek      RU  2022-05-10 01:33:07  69.7008  170.3133     33.46   \n",
       "172     Kavaratti      IN  2022-05-10 01:33:08  10.5669   72.6420     85.33   \n",
       "173   Pfullendorf      DE  2022-05-10 01:32:15  47.9167    9.2500     48.92   \n",
       "174  Taungdwingyi      MM  2022-05-10 01:33:09  20.0167   95.5500     83.43   \n",
       "\n",
       "     Humidity  Cloudiness  Wind Speed  \n",
       "0          70          41       11.03  \n",
       "1          62           1        7.20  \n",
       "2          50           0        5.91  \n",
       "3          85           5       14.88  \n",
       "4          61          20        8.05  \n",
       "..        ...         ...         ...  \n",
       "170        88          97        4.00  \n",
       "171        75         100       13.94  \n",
       "172        73         100       19.89  \n",
       "173        95           0        2.19  \n",
       "174        67         100        4.25  \n",
       "\n",
       "[175 rows x 9 columns]"
      ]
     },
     "execution_count": 12,
     "metadata": {},
     "output_type": "execute_result"
    }
   ],
   "source": [
    "city_data_df"
   ]
  },
  {
   "cell_type": "code",
   "execution_count": 13,
   "id": "ee8c9753",
   "metadata": {},
   "outputs": [],
   "source": [
    "# create output file csv\n",
    "\n",
    "output_data_file = 'weather_data/cities.csv'\n",
    "\n",
    "# export the city_data into a csv\n",
    "\n",
    "city_data_df.to_csv(output_data_file, index_label = 'City ID')"
   ]
  },
  {
   "cell_type": "code",
   "execution_count": 14,
   "id": "03c8a2c7",
   "metadata": {},
   "outputs": [],
   "source": [
    "# Extract relevant fields from the DF for plotting\n",
    "\n",
    "lats = city_data_df['Lat']\n",
    "\n",
    "max_temps = city_data_df['Max Temp']\n",
    "\n",
    "humidity = city_data_df['Humidity']\n",
    "\n",
    "cloudiness = city_data_df['Cloudiness']\n",
    "\n",
    "wind_speed = city_data_df['Wind Speed']"
   ]
  },
  {
   "cell_type": "code",
   "execution_count": 15,
   "id": "5ea044a9",
   "metadata": {},
   "outputs": [
    {
     "data": {
      "text/plain": [
       "'05/09/22'"
      ]
     },
     "execution_count": 15,
     "metadata": {},
     "output_type": "execute_result"
    }
   ],
   "source": [
    "# todays date\n",
    "\n",
    "today = time.strftime('%x')\n",
    "\n",
    "today"
   ]
  },
  {
   "cell_type": "code",
   "execution_count": 16,
   "id": "230a4e8f",
   "metadata": {},
   "outputs": [
    {
     "data": {
      "image/png": "[encoded data removed]",
      "text/plain": [
       "<Figure size 432x288 with 1 Axes>"
      ]
     },
     "metadata": {
      "needs_background": "light"
     },
     "output_type": "display_data"
    }
   ],
   "source": [
    "# scatter plot for lat vs max temp\n",
    "\n",
    "plt.scatter(lats, max_temps, edgecolor='k', linewidths=1, marker='o', alpha =0.8, label = 'Cities')\n",
    "\n",
    "# incorp other graph properties\n",
    "\n",
    "plt.title(f'City Latitude vs. Max Temperature ' + time.strftime('%x'))\n",
    "\n",
    "plt.ylabel('Max Temperature (F)')\n",
    "\n",
    "plt.xlabel('Latitude')\n",
    "\n",
    "plt.grid(True)\n",
    "\n",
    "# save fig\n",
    "\n",
    "plt.savefig('weather_data/Fig2.png')\n",
    "\n",
    "# show plot\n",
    "\n",
    "plt.show()"
   ]
  },
  {
   "cell_type": "code",
   "execution_count": 18,
   "id": "13db057d",
   "metadata": {},
   "outputs": [
    {
     "data": {
      "image/png": "[encoded data removed]",
      "text/plain": [
       "<Figure size 432x288 with 1 Axes>"
      ]
     },
     "metadata": {
      "needs_background": "light"
     },
     "output_type": "display_data"
    }
   ],
   "source": [
    "# scatter plot for lat vs humidity\n",
    "\n",
    "plt.scatter(lats, humidity, edgecolor='k', linewidths=1, marker='o', alpha =0.8, label = 'Cities')\n",
    "\n",
    "# incorp other graph properties\n",
    "\n",
    "plt.title(f'City Latitude vs. Humidity ' + time.strftime('%x'))\n",
    "\n",
    "plt.ylabel('Humidity (%)')\n",
    "\n",
    "plt.xlabel('Latitude')\n",
    "\n",
    "plt.grid(True)\n",
    "\n",
    "# save fig\n",
    "\n",
    "plt.savefig('weather_data/Fig3.png')\n",
    "\n",
    "# show plot\n",
    "\n",
    "plt.show()"
   ]
  },
  {
   "cell_type": "code",
   "execution_count": 19,
   "id": "19f1c557",
   "metadata": {},
   "outputs": [
    {
     "data": {
      "image/png": "[encoded data removed]",
      "text/plain": [
       "<Figure size 432x288 with 1 Axes>"
      ]
     },
     "metadata": {
      "needs_background": "light"
     },
     "output_type": "display_data"
    }
   ],
   "source": [
    "# scatter plot for lat vs cloudiness\n",
    "\n",
    "plt.scatter(lats, cloudiness, edgecolor='k', linewidths=1, marker='o', alpha =0.8, label = 'Cities')\n",
    "\n",
    "# incorp other graph properties\n",
    "\n",
    "plt.title(f'City Latitude vs. Cloudiness ' + time.strftime('%x'))\n",
    "\n",
    "plt.ylabel('Cloudiness (%)')\n",
    "\n",
    "plt.xlabel('Latitude')\n",
    "\n",
    "plt.grid(True)\n",
    "\n",
    "# save fig\n",
    "\n",
    "plt.savefig('weather_data/Fig4.png')\n",
    "\n",
    "# show plot\n",
    "\n",
    "plt.show()"
   ]
  },
  {
   "cell_type": "code",
   "execution_count": 21,
   "id": "e0e96427",
   "metadata": {},
   "outputs": [
    {
     "data": {
      "image/png": "[encoded data removed]",
      "text/plain": [
       "<Figure size 432x288 with 1 Axes>"
      ]
     },
     "metadata": {
      "needs_background": "light"
     },
     "output_type": "display_data"
    }
   ],
   "source": [
    "# scatter plot for lat vs wind speed\n",
    "\n",
    "plt.scatter(lats, wind_speed, edgecolor='k', linewidths=1, marker='o', alpha =0.8, label = 'Cities')\n",
    "\n",
    "# incorp other graph properties\n",
    "\n",
    "plt.title(f'City Latitude vs. Wind Speed ' + time.strftime('%x'))\n",
    "\n",
    "plt.ylabel('Wind Speed (mph)')\n",
    "\n",
    "plt.xlabel('Latitude')\n",
    "\n",
    "plt.grid(True)\n",
    "\n",
    "# save fig\n",
    "\n",
    "plt.savefig('weather_data/Fig5.png')\n",
    "\n",
    "# show plot\n",
    "\n",
    "plt.show()"
   ]
  },
  {
   "cell_type": "code",
   "execution_count": null,
   "id": "c36dbed2",
   "metadata": {},
   "outputs": [],
   "source": []
  },
  {
   "cell_type": "code",
   "execution_count": 22,
   "id": "f3ec48d0",
   "metadata": {},
   "outputs": [],
   "source": [
    "# import linear regression from the SciPy mod\n",
    "\n",
    "from scipy.stats import linregress\n",
    "\n",
    "\n",
    "# create function to perform linear regression on weather data\n",
    "\n",
    "def plot_linear_regression(x_values,y_values,title,y_label,text_coordinates):\n",
    "    \n",
    "#     run regression on hemisphere weather data\n",
    "    (slope,intercept,r_value,p_value,std_err) = linregress(x_values, y_values)\n",
    "    \n",
    "    \n",
    "#     calc the regression line 'y value' from slope and intercept\n",
    "    \n",
    "    regress_values = x_values * slope + intercept\n",
    "    \n",
    "#     get equation on line\n",
    "    \n",
    "    line_eq = \"y = \" + str(round(slope,2)) + \"x +\" + str(round(intercept,2))\n",
    "    \n",
    "#     create scatter plot\n",
    "    \n",
    "    plt.scatter(x_values,y_values)\n",
    "    \n",
    "    plt.plot(x_values, regress_values, \"r\")\n",
    "    \n",
    "#     annotate the text for the line equation\n",
    "    \n",
    "    plt.annotate(line_eq, text_coordinates, fontsize=15, color='red')\n",
    "    \n",
    "    plt.title(title)\n",
    "    \n",
    "    plt.xlabel('Latitude')\n",
    "    \n",
    "    plt.ylabel(y_label)\n",
    "    \n",
    "    plt.show()\n",
    "    \n"
   ]
  },
  {
   "cell_type": "code",
   "execution_count": 24,
   "id": "9b9363b0",
   "metadata": {},
   "outputs": [
    {
     "data": {
      "text/plain": [
       "City                       Castro\n",
       "Country                        BR\n",
       "Date          2022-05-10 01:28:42\n",
       "Lat                      -24.7911\n",
       "Lng                      -50.0119\n",
       "Max Temp                    54.28\n",
       "Humidity                       96\n",
       "Cloudiness                      1\n",
       "Wind Speed                    4.7\n",
       "Name: 13, dtype: object"
      ]
     },
     "execution_count": 24,
     "metadata": {},
     "output_type": "execute_result"
    }
   ],
   "source": [
    "index13 = city_data_df.loc[13]\n",
    "index13"
   ]
  },
  {
   "cell_type": "code",
   "execution_count": 29,
   "id": "241b86c1",
   "metadata": {},
   "outputs": [],
   "source": [
    "# create northern and southern hemisphere DF\n",
    "\n",
    "northern_hemi_df = city_data_df.loc[(city_data_df['Lat'] >= 0)]\n",
    "\n",
    "southern_hemi_df = city_data_df.loc[(city_data_df['Lat'] < 0)]"
   ]
  },
  {
   "cell_type": "code",
   "execution_count": 35,
   "id": "67fa6790",
   "metadata": {},
   "outputs": [
    {
     "data": {
      "image/png": "[encoded data removed]",
      "text/plain": [
       "<Figure size 432x288 with 1 Axes>"
      ]
     },
     "metadata": {
      "needs_background": "light"
     },
     "output_type": "display_data"
    }
   ],
   "source": [
    "# linear regression on north\n",
    "\n",
    "x_values = northern_hemi_df['Lat']\n",
    "\n",
    "y_values = northern_hemi_df['Max Temp']\n",
    "\n",
    "# call function\n",
    "\n",
    "plot_linear_regression(x_values, y_values, 'Linear Regression on the Northern Hemisphere \\n for Maximum Temperature', 'Max Temp', (10,40))"
   ]
  },
  {
   "cell_type": "code",
   "execution_count": 34,
   "id": "81171aaa",
   "metadata": {},
   "outputs": [
    {
     "data": {
      "image/png": "[encoded data removed]",
      "text/plain": [
       "<Figure size 432x288 with 1 Axes>"
      ]
     },
     "metadata": {
      "needs_background": "light"
     },
     "output_type": "display_data"
    }
   ],
   "source": [
    "x_values = southern_hemi_df['Lat']\n",
    "\n",
    "y_values = southern_hemi_df['Max Temp']\n",
    "\n",
    "# call function\n",
    "\n",
    "plot_linear_regression(x_values, y_values, 'Linear Regression on the Southern Hemisphere \\n for Maximum Temperature', 'Max Temp', (-50,90))"
   ]
  },
  {
   "cell_type": "code",
   "execution_count": 46,
   "id": "860ac2ed",
   "metadata": {},
   "outputs": [
    {
     "data": {
      "image/png": "[encoded data removed]",
      "text/plain": [
       "<Figure size 432x288 with 1 Axes>"
      ]
     },
     "metadata": {
      "needs_background": "light"
     },
     "output_type": "display_data"
    }
   ],
   "source": [
    "x_values = northern_hemi_df['Lat']\n",
    "\n",
    "y_values = northern_hemi_df['Humidity']\n",
    "\n",
    "# call function\n",
    "\n",
    "plot_linear_regression(x_values, y_values, 'Linear Regression on the Northern Hemisphere \\n for % Humidity', '% Humidity', (40,10))"
   ]
  },
  {
   "cell_type": "code",
   "execution_count": 38,
   "id": "4e9bf3ef",
   "metadata": {},
   "outputs": [
    {
     "data": {
      "image/png": "[encoded data removed]",
      "text/plain": [
       "<Figure size 432x288 with 1 Axes>"
      ]
     },
     "metadata": {
      "needs_background": "light"
     },
     "output_type": "display_data"
    }
   ],
   "source": [
    "x_values = southern_hemi_df['Lat']\n",
    "\n",
    "y_values = southern_hemi_df['Humidity']\n",
    "\n",
    "# call function\n",
    "\n",
    "plot_linear_regression(x_values, y_values, 'Linear Regression on the Southern Hemisphere \\n for % Humidity', '% Humidity', (-50, 15))"
   ]
  },
  {
   "cell_type": "code",
   "execution_count": 51,
   "id": "3f110c52",
   "metadata": {},
   "outputs": [
    {
     "data": {
      "image/png": "[encoded data removed]",
      "text/plain": [
       "<Figure size 432x288 with 1 Axes>"
      ]
     },
     "metadata": {
      "needs_background": "light"
     },
     "output_type": "display_data"
    }
   ],
   "source": [
    "x_values = northern_hemi_df['Lat']\n",
    "\n",
    "y_values = northern_hemi_df['Cloudiness']\n",
    "\n",
    "# call function\n",
    "\n",
    "plot_linear_regression(x_values, y_values, 'Linear Regression on the Northern Hemisphere \\n for % Cloudiness', '% Cloudiness', (-50,80))"
   ]
  },
  {
   "cell_type": "code",
   "execution_count": 47,
   "id": "7953e442",
   "metadata": {},
   "outputs": [
    {
     "data": {
      "image/png": "[encoded data removed]",
      "text/plain": [
       "<Figure size 432x288 with 1 Axes>"
      ]
     },
     "metadata": {
      "needs_background": "light"
     },
     "output_type": "display_data"
    }
   ],
   "source": [
    "x_values = southern_hemi_df['Lat']\n",
    "\n",
    "y_values = southern_hemi_df['Cloudiness']\n",
    "\n",
    "# call function\n",
    "\n",
    "plot_linear_regression(x_values, y_values, 'Linear Regression on the Southern Hemisphere \\n for % Cloudiness', '% Cloudiness', (-50,60))"
   ]
  },
  {
   "cell_type": "code",
   "execution_count": 57,
   "id": "dc95b1cd",
   "metadata": {},
   "outputs": [
    {
     "data": {
      "image/png": "[encoded data removed]",
      "text/plain": [
       "<Figure size 432x288 with 1 Axes>"
      ]
     },
     "metadata": {
      "needs_background": "light"
     },
     "output_type": "display_data"
    }
   ],
   "source": [
    "# Linear regression on the Northern Hemisphere\n",
    "\n",
    "x_values = northern_hemi_df[\"Lat\"]\n",
    "\n",
    "y_values = northern_hemi_df[\"Wind Speed\"]\n",
    "\n",
    "# Call the function.\n",
    "plot_linear_regression(x_values, y_values,'Linear Regression on the Northern Hemisphere \\n for Wind Speed', 'Wind Speed',(40,35))"
   ]
  },
  {
   "cell_type": "code",
   "execution_count": 58,
   "id": "ab0317b9",
   "metadata": {},
   "outputs": [
    {
     "data": {
      "image/png": "[encoded data removed]",
      "text/plain": [
       "<Figure size 432x288 with 1 Axes>"
      ]
     },
     "metadata": {
      "needs_background": "light"
     },
     "output_type": "display_data"
    }
   ],
   "source": [
    "# Linear regression on the Southern Hemisphere\n",
    "\n",
    "x_values = southern_hemi_df[\"Lat\"]\n",
    "\n",
    "y_values = southern_hemi_df[\"Wind Speed\"]\n",
    "\n",
    "# Call the function.\n",
    "\n",
    "plot_linear_regression(x_values, y_values,\n",
    "                       'Linear Regression on the Southern Hemisphere \\n for Wind Speed', 'Wind Speed',(-50,35))"
   ]
  },
  {
   "cell_type": "code",
   "execution_count": null,
   "id": "dd78c665",
   "metadata": {},
   "outputs": [],
   "source": []
  }
 ],
 "metadata": {
  "kernelspec": {
   "display_name": "PythonData",
   "language": "python",
   "name": "pythondata"
  },
  "language_info": {
   "codemirror_mode": {
    "name": "ipython",
    "version": 3
   },
   "file_extension": ".py",
   "mimetype": "text/x-python",
   "name": "python",
   "nbconvert_exporter": "python",
   "pygments_lexer": "ipython3",
   "version": "3.7.11"
  }
 },
 "nbformat": 4,
 "nbformat_minor": 5
}
